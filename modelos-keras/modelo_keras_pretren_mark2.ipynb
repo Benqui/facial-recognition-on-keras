{
  "cells": [
    {
      "cell_type": "markdown",
      "metadata": {
        "id": "view-in-github",
        "colab_type": "text"
      },
      "source": [
        "<a href=\"https://colab.research.google.com/github/Benqui/facial-recognition-on-keras/blob/main/modelos-keras/modelo_keras_pretren_mark2.ipynb\" target=\"_parent\"><img src=\"https://colab.research.google.com/assets/colab-badge.svg\" alt=\"Open In Colab\"/></a>"
      ]
    },
    {
      "cell_type": "code",
      "execution_count": 1,
      "metadata": {
        "id": "wJNBJouRTCvr"
      },
      "outputs": [],
      "source": [
        "import pandas as pd\n",
        "import numpy as np\n",
        "from sklearn.model_selection import train_test_split\n",
        "from keras.models import Sequential\n",
        "from keras.layers import Conv2D, MaxPooling2D, Flatten, Dense, Dropout\n",
        "from keras.utils import to_categorical\n",
        "\n",
        "import tensorflow as tf"
      ]
    },
    {
      "cell_type": "code",
      "execution_count": 2,
      "metadata": {
        "colab": {
          "base_uri": "https://localhost:8080/"
        },
        "id": "mQTjYazGTelz",
        "outputId": "4697009b-cff8-44c6-da90-3a741632a884"
      },
      "outputs": [
        {
          "output_type": "stream",
          "name": "stdout",
          "text": [
            "Mounted at /content/drive\n"
          ]
        }
      ],
      "source": [
        "from google.colab import drive\n",
        "drive.mount('/content/drive')"
      ]
    },
    {
      "cell_type": "code",
      "execution_count": 7,
      "metadata": {
        "id": "46gDdw4mZ_SK"
      },
      "outputs": [],
      "source": [
        "def gray_to_rgb(gray_imgs):\n",
        "    # Convert numpy array to TensorFlow tensor\n",
        "    gray_imgs_tensor = tf.convert_to_tensor(gray_imgs, dtype=tf.float32)\n",
        "\n",
        "    # Convert grayscale images to RGB images\n",
        "    rgb_images = tf.image.grayscale_to_rgb(gray_imgs_tensor)\n",
        "\n",
        "    # Convert the tensor to a numpy array\n",
        "    rgb_images_array = rgb_images.numpy()\n",
        "\n",
        "    return rgb_images_array"
      ]
    },
    {
      "cell_type": "code",
      "execution_count": 3,
      "metadata": {
        "id": "aIj0ovb2TFVe"
      },
      "outputs": [],
      "source": [
        "# Load the FER2013 dataset from fer2013.csv file\n",
        "# data = pd.read_csv('/content/drive/MyDrive/reconocer-jetas/fer2013/fer2013.csv')\n",
        "data = pd.read_csv('/content/drive/MyDrive/Escuela/ia/reconocer-jetas/fer2013/fer2013.csv')\n",
        "\n",
        "\n",
        "# Extract the pixel values and labels\n",
        "pixels = data['pixels'].tolist()\n",
        "labels = data['emotion'].tolist()\n",
        "\n",
        "# Convert pixel values to numpy arrays\n",
        "pixels = np.array([np.fromstring(pixel, dtype='int', sep=' ') for pixel in pixels])\n",
        "pixels = pixels / 255.0  # Normalize pixel values between 0 and 1"
      ]
    },
    {
      "cell_type": "code",
      "execution_count": 4,
      "metadata": {
        "id": "dzhUXBovTFXl"
      },
      "outputs": [],
      "source": [
        "# Reshape pixel arrays to match the image dimensions (48x48x1)\n",
        "pixels = pixels.reshape(pixels.shape[0], 48, 48, 1)\n",
        "\n",
        "# Convert labels to categorical format\n",
        "labels = to_categorical(labels)\n",
        "\n",
        "# Split the dataset into training and testing sets\n",
        "train_images, test_images, train_labels, test_labels = train_test_split(pixels, labels, test_size=0.2, random_state=42)"
      ]
    },
    {
      "cell_type": "code",
      "execution_count": 5,
      "metadata": {
        "colab": {
          "base_uri": "https://localhost:8080/"
        },
        "id": "BQzvlUh1aFcw",
        "outputId": "5cf9c274-679a-4d62-ecbf-695e9076f515"
      },
      "outputs": [
        {
          "output_type": "stream",
          "name": "stdout",
          "text": [
            "(28709, 48, 48, 1)\n",
            "(7178, 48, 48, 1)\n",
            "(28709, 7)\n",
            "(7178, 7)\n"
          ]
        }
      ],
      "source": [
        "print(train_images.shape)\n",
        "print(test_images.shape)\n",
        "print(train_labels.shape)\n",
        "print(test_labels.shape)"
      ]
    },
    {
      "cell_type": "code",
      "execution_count": 8,
      "metadata": {
        "id": "MAdRJQpFaEXC"
      },
      "outputs": [],
      "source": [
        "train_images = gray_to_rgb(train_images)\n",
        "test_images = gray_to_rgb(test_images)"
      ]
    },
    {
      "cell_type": "code",
      "execution_count": 10,
      "metadata": {
        "colab": {
          "base_uri": "https://localhost:8080/"
        },
        "id": "BMjRx56daj2O",
        "outputId": "1a7c7071-93ee-4343-a28d-2d1b2e5bbc68"
      },
      "outputs": [
        {
          "output_type": "stream",
          "name": "stdout",
          "text": [
            "(28709, 48, 48, 3)\n",
            "(7178, 48, 48, 3)\n",
            "(28709, 7)\n",
            "(7178, 7)\n"
          ]
        }
      ],
      "source": [
        "print(train_images.shape)\n",
        "print(test_images.shape)\n",
        "print(train_labels.shape)\n",
        "print(test_labels.shape)"
      ]
    },
    {
      "cell_type": "code",
      "execution_count": 11,
      "metadata": {
        "id": "r1eBRbs_TFZt"
      },
      "outputs": [],
      "source": [
        "# # Create the CNN model\n",
        "# model = Sequential()\n",
        "# model.add(Conv2D(64, (3, 3), activation='relu', input_shape=(48, 48, 1)))\n",
        "# model.add(Conv2D(64, (3, 3), activation='relu'))\n",
        "# model.add(MaxPooling2D(pool_size=(2, 2)))\n",
        "# model.add(Dropout(0.25))\n",
        "\n",
        "# model.add(Conv2D(128, (3, 3), activation='relu'))\n",
        "# model.add(Conv2D(128, (3, 3), activation='relu'))\n",
        "# model.add(MaxPooling2D(pool_size=(2, 2)))\n",
        "# model.add(Dropout(0.25))\n",
        "\n",
        "# model.add(Flatten())\n",
        "# model.add(Dense(1024, activation='relu'))\n",
        "# model.add(Dropout(0.5))\n",
        "# model.add(Dense(7, activation='softmax'))"
      ]
    },
    {
      "cell_type": "code",
      "execution_count": 12,
      "metadata": {
        "id": "5uGP43v0bsS3",
        "colab": {
          "base_uri": "https://localhost:8080/"
        },
        "outputId": "59716903-2819-4cd7-8b60-3bd2b1cb67ac"
      },
      "outputs": [
        {
          "output_type": "stream",
          "name": "stdout",
          "text": [
            "Downloading data from https://storage.googleapis.com/tensorflow/keras-applications/vgg16/vgg16_weights_tf_dim_ordering_tf_kernels_notop.h5\n",
            "58889256/58889256 [==============================] - 4s 0us/step\n"
          ]
        }
      ],
      "source": [
        "from tensorflow.keras.applications import MobileNet, VGG16, ResNet50, VGG19\n",
        "import tensorflow as tf\n",
        "# pre_trained_model = base_model = tf.keras.applications.ResNet50(input_shape=(48,48,3),include_top=False,weights=\"imagenet\")\n",
        "pre_trained_model = base_model = tf.keras.applications.VGG16(input_shape=(48,48,3),include_top=False,weights=\"imagenet\") \n",
        "# pre_trained_model = base_model = tf.keras.applications.EfficientNetB5(input_shape=(48,48,3),include_top=False,weights=\"imagenet\")\n",
        "# pre_trained_model = base_model = tf.keras.applications.MobileNetV2(input_shape=(48,48,3),include_top=False,weights=\"imagenet\")\n",
        "\n",
        "# pre_trained_model = base_model = tf.keras.applications.VGG19(input_shape=(48,48,3),include_top=False,weights=\"imagenet\")\n",
        "#pre_trained_model = tf.keras.applications.VGG16(input_shape=(48,48,3),include_top=False,weights=None)"
      ]
    },
    {
      "cell_type": "code",
      "execution_count": 13,
      "metadata": {
        "id": "eMyUZdYIbxRR"
      },
      "outputs": [],
      "source": [
        "# Building Model\n",
        "\n",
        "from tensorflow.keras.models import Sequential\n",
        "from tensorflow.keras.layers import Flatten, BatchNormalization, Dense, Activation\n",
        "\n",
        "\n",
        "modelo=Sequential()\n",
        "modelo.add(pre_trained_model)\n",
        "# modelo.add(Dropout(0.5))\n",
        "modelo.add(Flatten())\n",
        "modelo.add(BatchNormalization())\n",
        "# modelo.add(Dense(32,kernel_initializer='he_uniform'))\n",
        "# modelo.add(BatchNormalization())\n",
        "# modelo.add(Activation('relu'))\n",
        "# modelo.add(Dropout(0.5))\n",
        "# modelo.add(Dense(32,kernel_initializer='he_uniform'))\n",
        "# modelo.add(BatchNormalization())\n",
        "# modelo.add(Activation('relu'))\n",
        "# modelo.add(Dropout(0.5))\n",
        "# modelo.add(Dense(32,kernel_initializer='he_uniform'))\n",
        "# modelo.add(BatchNormalization())\n",
        "modelo.add(Activation('relu'))\n",
        "modelo.add(Dense(7,activation='softmax'))\n"
      ]
    },
    {
      "cell_type": "code",
      "execution_count": 14,
      "metadata": {
        "id": "GPnQMdnZTFb7"
      },
      "outputs": [],
      "source": [
        "# Compile the model rmsprop\n",
        "# modelo.compile(optimizer='adam', loss='categorical_crossentropy', metrics=['accuracy'])\n",
        "modelo.compile(optimizer='rmsprop', loss='categorical_crossentropy', metrics=['accuracy'])\n"
      ]
    },
    {
      "cell_type": "code",
      "execution_count": 22,
      "metadata": {
        "colab": {
          "base_uri": "https://localhost:8080/"
        },
        "id": "83RSo0ftTFdx",
        "outputId": "576ea5e6-228e-486c-cb27-3b534073bcc4"
      },
      "outputs": [
        {
          "output_type": "stream",
          "name": "stdout",
          "text": [
            "Epoch 1/120\n",
            "449/449 [==============================] - 29s 63ms/step - loss: 0.2146 - accuracy: 0.9253 - val_loss: 4.0594 - val_accuracy: 0.5263\n",
            "Epoch 2/120\n",
            "449/449 [==============================] - 29s 65ms/step - loss: 0.1921 - accuracy: 0.9333 - val_loss: 2.5287 - val_accuracy: 0.5913\n",
            "Epoch 3/120\n",
            "449/449 [==============================] - 29s 64ms/step - loss: 0.1709 - accuracy: 0.9411 - val_loss: 19.9799 - val_accuracy: 0.5875\n",
            "Epoch 4/120\n",
            "449/449 [==============================] - 29s 64ms/step - loss: 0.1566 - accuracy: 0.9472 - val_loss: 2.8074 - val_accuracy: 0.5953\n",
            "Epoch 5/120\n",
            "449/449 [==============================] - 29s 64ms/step - loss: 0.1477 - accuracy: 0.9500 - val_loss: 2.6243 - val_accuracy: 0.6050\n",
            "Epoch 6/120\n",
            "449/449 [==============================] - 28s 63ms/step - loss: 0.1386 - accuracy: 0.9537 - val_loss: 2.6240 - val_accuracy: 0.6174\n",
            "Epoch 7/120\n",
            "449/449 [==============================] - 29s 65ms/step - loss: 0.1288 - accuracy: 0.9566 - val_loss: 2.5655 - val_accuracy: 0.6034\n",
            "Epoch 8/120\n",
            "449/449 [==============================] - 28s 63ms/step - loss: 0.1224 - accuracy: 0.9602 - val_loss: 167.6946 - val_accuracy: 0.5979\n",
            "Epoch 9/120\n",
            "449/449 [==============================] - 28s 63ms/step - loss: 0.1158 - accuracy: 0.9623 - val_loss: 4.3091 - val_accuracy: 0.5829\n",
            "Epoch 10/120\n",
            "449/449 [==============================] - 28s 63ms/step - loss: 0.1061 - accuracy: 0.9654 - val_loss: 3.1539 - val_accuracy: 0.5988\n",
            "Epoch 11/120\n",
            "449/449 [==============================] - 29s 64ms/step - loss: 0.1015 - accuracy: 0.9672 - val_loss: 5.2548 - val_accuracy: 0.5734\n",
            "Epoch 12/120\n",
            "449/449 [==============================] - 28s 63ms/step - loss: 0.0979 - accuracy: 0.9677 - val_loss: 3.8395 - val_accuracy: 0.5777\n",
            "Epoch 13/120\n",
            "449/449 [==============================] - 28s 63ms/step - loss: 0.0938 - accuracy: 0.9698 - val_loss: 4.2461 - val_accuracy: 0.5651\n",
            "Epoch 14/120\n",
            "449/449 [==============================] - 28s 63ms/step - loss: 0.0849 - accuracy: 0.9724 - val_loss: 3.0526 - val_accuracy: 0.6076\n",
            "Epoch 15/120\n",
            "449/449 [==============================] - 29s 64ms/step - loss: 0.0882 - accuracy: 0.9715 - val_loss: 2.8050 - val_accuracy: 0.6049\n",
            "Epoch 16/120\n",
            "449/449 [==============================] - 28s 63ms/step - loss: 0.0808 - accuracy: 0.9738 - val_loss: 3.2442 - val_accuracy: 0.6025\n",
            "Epoch 17/120\n",
            "449/449 [==============================] - 29s 65ms/step - loss: 0.0781 - accuracy: 0.9740 - val_loss: 3.4430 - val_accuracy: 0.6006\n",
            "Epoch 18/120\n",
            "449/449 [==============================] - 28s 63ms/step - loss: 0.0776 - accuracy: 0.9753 - val_loss: 1382.1057 - val_accuracy: 0.6025\n",
            "Epoch 19/120\n",
            "449/449 [==============================] - 29s 64ms/step - loss: 0.0755 - accuracy: 0.9763 - val_loss: 2.2531 - val_accuracy: 0.5802\n",
            "Epoch 20/120\n",
            "449/449 [==============================] - 28s 63ms/step - loss: 0.0706 - accuracy: 0.9784 - val_loss: 2.5777 - val_accuracy: 0.5857\n",
            "Epoch 21/120\n",
            "449/449 [==============================] - 28s 63ms/step - loss: 0.0681 - accuracy: 0.9791 - val_loss: 4.7094 - val_accuracy: 0.5956\n",
            "Epoch 22/120\n",
            "449/449 [==============================] - 29s 64ms/step - loss: 0.0643 - accuracy: 0.9785 - val_loss: 3.2014 - val_accuracy: 0.6158\n",
            "Epoch 23/120\n",
            "449/449 [==============================] - 29s 64ms/step - loss: 0.0626 - accuracy: 0.9799 - val_loss: 3.0289 - val_accuracy: 0.6017\n",
            "Epoch 24/120\n",
            "449/449 [==============================] - 28s 63ms/step - loss: 0.0626 - accuracy: 0.9808 - val_loss: 3.1354 - val_accuracy: 0.6041\n",
            "Epoch 25/120\n",
            "449/449 [==============================] - 28s 63ms/step - loss: 0.0601 - accuracy: 0.9813 - val_loss: 3.2081 - val_accuracy: 0.5787\n",
            "Epoch 26/120\n",
            "449/449 [==============================] - 29s 64ms/step - loss: 0.0556 - accuracy: 0.9815 - val_loss: 3.1058 - val_accuracy: 0.6186\n",
            "Epoch 27/120\n",
            "449/449 [==============================] - 29s 64ms/step - loss: 0.0575 - accuracy: 0.9815 - val_loss: 2.9828 - val_accuracy: 0.5921\n",
            "Epoch 28/120\n",
            "449/449 [==============================] - 29s 65ms/step - loss: 0.0594 - accuracy: 0.9818 - val_loss: 3.5372 - val_accuracy: 0.6074\n",
            "Epoch 29/120\n",
            "449/449 [==============================] - 28s 63ms/step - loss: 0.0553 - accuracy: 0.9828 - val_loss: 3.2719 - val_accuracy: 0.6211\n",
            "Epoch 30/120\n",
            "449/449 [==============================] - 29s 64ms/step - loss: 0.0546 - accuracy: 0.9823 - val_loss: 2.8098 - val_accuracy: 0.5901\n",
            "Epoch 31/120\n",
            "449/449 [==============================] - 28s 63ms/step - loss: 0.0513 - accuracy: 0.9834 - val_loss: 3.9239 - val_accuracy: 0.6069\n",
            "Epoch 32/120\n",
            "449/449 [==============================] - 29s 65ms/step - loss: 0.0506 - accuracy: 0.9832 - val_loss: 3.0292 - val_accuracy: 0.6259\n",
            "Epoch 33/120\n",
            "449/449 [==============================] - 28s 63ms/step - loss: 0.0466 - accuracy: 0.9842 - val_loss: 2.8177 - val_accuracy: 0.6041\n",
            "Epoch 34/120\n",
            "449/449 [==============================] - 29s 65ms/step - loss: 0.0485 - accuracy: 0.9846 - val_loss: 3.5546 - val_accuracy: 0.6028\n",
            "Epoch 35/120\n",
            "449/449 [==============================] - 28s 63ms/step - loss: 0.0469 - accuracy: 0.9843 - val_loss: 4.3155 - val_accuracy: 0.5958\n",
            "Epoch 36/120\n",
            "449/449 [==============================] - 28s 63ms/step - loss: 0.0445 - accuracy: 0.9844 - val_loss: 3.0614 - val_accuracy: 0.6105\n",
            "Epoch 37/120\n",
            "449/449 [==============================] - 28s 63ms/step - loss: 0.0415 - accuracy: 0.9865 - val_loss: 3.7557 - val_accuracy: 0.6130\n",
            "Epoch 38/120\n",
            "449/449 [==============================] - 28s 63ms/step - loss: 0.0433 - accuracy: 0.9853 - val_loss: 3.0729 - val_accuracy: 0.6106\n",
            "Epoch 39/120\n",
            "449/449 [==============================] - 28s 63ms/step - loss: 0.0447 - accuracy: 0.9858 - val_loss: 2323.2188 - val_accuracy: 0.5839\n",
            "Epoch 40/120\n",
            "449/449 [==============================] - 29s 65ms/step - loss: 0.0425 - accuracy: 0.9871 - val_loss: 1346.6836 - val_accuracy: 0.6101\n",
            "Epoch 41/120\n",
            "449/449 [==============================] - 29s 65ms/step - loss: 0.0397 - accuracy: 0.9871 - val_loss: 2.9235 - val_accuracy: 0.6062\n",
            "Epoch 42/120\n",
            "449/449 [==============================] - 28s 63ms/step - loss: 0.0391 - accuracy: 0.9874 - val_loss: 4012.3586 - val_accuracy: 0.5499\n",
            "Epoch 43/120\n",
            "449/449 [==============================] - 28s 63ms/step - loss: 0.0382 - accuracy: 0.9874 - val_loss: 3.2013 - val_accuracy: 0.6186\n",
            "Epoch 44/120\n",
            "449/449 [==============================] - 29s 65ms/step - loss: 0.0383 - accuracy: 0.9870 - val_loss: 3.1464 - val_accuracy: 0.6059\n",
            "Epoch 45/120\n",
            "449/449 [==============================] - 29s 65ms/step - loss: 0.0388 - accuracy: 0.9870 - val_loss: 3.9518 - val_accuracy: 0.6186\n",
            "Epoch 46/120\n",
            "449/449 [==============================] - 28s 63ms/step - loss: 0.0358 - accuracy: 0.9886 - val_loss: 3.0493 - val_accuracy: 0.6169\n",
            "Epoch 47/120\n",
            "449/449 [==============================] - 29s 64ms/step - loss: 0.0371 - accuracy: 0.9873 - val_loss: 3.7898 - val_accuracy: 0.6301\n",
            "Epoch 48/120\n",
            "449/449 [==============================] - 29s 65ms/step - loss: 0.0334 - accuracy: 0.9894 - val_loss: 3.5710 - val_accuracy: 0.6268\n",
            "Epoch 49/120\n",
            "449/449 [==============================] - 29s 65ms/step - loss: 0.0366 - accuracy: 0.9887 - val_loss: 4.6697 - val_accuracy: 0.6056\n",
            "Epoch 50/120\n",
            "449/449 [==============================] - 29s 64ms/step - loss: 0.0376 - accuracy: 0.9879 - val_loss: 4.0678 - val_accuracy: 0.5770\n",
            "Epoch 51/120\n",
            "449/449 [==============================] - 29s 65ms/step - loss: 0.0325 - accuracy: 0.9882 - val_loss: 4489.9292 - val_accuracy: 0.6095\n",
            "Epoch 52/120\n",
            "449/449 [==============================] - 29s 65ms/step - loss: 0.0344 - accuracy: 0.9884 - val_loss: 3.7392 - val_accuracy: 0.6092\n",
            "Epoch 53/120\n",
            "449/449 [==============================] - 29s 65ms/step - loss: 0.0329 - accuracy: 0.9891 - val_loss: 3.6858 - val_accuracy: 0.6230\n",
            "Epoch 54/120\n",
            "449/449 [==============================] - 29s 64ms/step - loss: 0.0299 - accuracy: 0.9897 - val_loss: 3.5889 - val_accuracy: 0.6080\n",
            "Epoch 55/120\n",
            "449/449 [==============================] - 29s 64ms/step - loss: 0.0318 - accuracy: 0.9899 - val_loss: 3.3605 - val_accuracy: 0.6174\n",
            "Epoch 56/120\n",
            "449/449 [==============================] - 29s 64ms/step - loss: 0.0337 - accuracy: 0.9885 - val_loss: 3.9558 - val_accuracy: 0.6265\n",
            "Epoch 57/120\n",
            "449/449 [==============================] - 29s 64ms/step - loss: 0.0265 - accuracy: 0.9907 - val_loss: 3.2782 - val_accuracy: 0.6268\n",
            "Epoch 58/120\n",
            "449/449 [==============================] - 29s 65ms/step - loss: 0.0315 - accuracy: 0.9905 - val_loss: 4.0285 - val_accuracy: 0.6222\n",
            "Epoch 59/120\n",
            "449/449 [==============================] - 29s 64ms/step - loss: 0.0295 - accuracy: 0.9897 - val_loss: 3.5901 - val_accuracy: 0.6007\n",
            "Epoch 60/120\n",
            "449/449 [==============================] - 29s 64ms/step - loss: 0.0295 - accuracy: 0.9902 - val_loss: 4.4343 - val_accuracy: 0.6155\n",
            "Epoch 61/120\n",
            "449/449 [==============================] - 29s 64ms/step - loss: 0.0290 - accuracy: 0.9904 - val_loss: 4.1556 - val_accuracy: 0.6237\n",
            "Epoch 62/120\n",
            "449/449 [==============================] - 28s 63ms/step - loss: 0.0300 - accuracy: 0.9904 - val_loss: 3.3092 - val_accuracy: 0.6167\n",
            "Epoch 63/120\n",
            "449/449 [==============================] - 28s 63ms/step - loss: 0.0285 - accuracy: 0.9907 - val_loss: 3.9492 - val_accuracy: 0.6190\n",
            "Epoch 64/120\n",
            "449/449 [==============================] - 29s 64ms/step - loss: 0.0272 - accuracy: 0.9906 - val_loss: 3.1308 - val_accuracy: 0.6056\n",
            "Epoch 65/120\n",
            "449/449 [==============================] - 28s 62ms/step - loss: 0.0270 - accuracy: 0.9907 - val_loss: 1001.6537 - val_accuracy: 0.6014\n",
            "Epoch 66/120\n",
            "449/449 [==============================] - 29s 64ms/step - loss: 0.0241 - accuracy: 0.9918 - val_loss: 3.8686 - val_accuracy: 0.5995\n",
            "Epoch 67/120\n",
            "449/449 [==============================] - 29s 65ms/step - loss: 0.0290 - accuracy: 0.9901 - val_loss: 3.8361 - val_accuracy: 0.6144\n",
            "Epoch 68/120\n",
            "449/449 [==============================] - 28s 63ms/step - loss: 0.0253 - accuracy: 0.9910 - val_loss: 5.1353 - val_accuracy: 0.6087\n",
            "Epoch 69/120\n",
            "449/449 [==============================] - 29s 65ms/step - loss: 0.0319 - accuracy: 0.9901 - val_loss: 4.5910 - val_accuracy: 0.6188\n",
            "Epoch 70/120\n",
            "449/449 [==============================] - 28s 63ms/step - loss: 0.0244 - accuracy: 0.9919 - val_loss: 3.8581 - val_accuracy: 0.6283\n",
            "Epoch 71/120\n",
            "449/449 [==============================] - 28s 63ms/step - loss: 0.0239 - accuracy: 0.9917 - val_loss: 4.2115 - val_accuracy: 0.6243\n",
            "Epoch 72/120\n",
            "449/449 [==============================] - 28s 63ms/step - loss: 0.0280 - accuracy: 0.9909 - val_loss: 3.4017 - val_accuracy: 0.6081\n",
            "Epoch 73/120\n",
            "449/449 [==============================] - 29s 65ms/step - loss: 0.0239 - accuracy: 0.9920 - val_loss: 3.8172 - val_accuracy: 0.6261\n",
            "Epoch 74/120\n",
            "449/449 [==============================] - 29s 65ms/step - loss: 0.0248 - accuracy: 0.9912 - val_loss: 3.4775 - val_accuracy: 0.6264\n",
            "Epoch 75/120\n",
            "449/449 [==============================] - 29s 64ms/step - loss: 0.0219 - accuracy: 0.9925 - val_loss: 3.1496 - val_accuracy: 0.5915\n",
            "Epoch 76/120\n",
            "449/449 [==============================] - 28s 63ms/step - loss: 0.0251 - accuracy: 0.9918 - val_loss: 3.8612 - val_accuracy: 0.6141\n",
            "Epoch 77/120\n",
            "449/449 [==============================] - 29s 64ms/step - loss: 0.0218 - accuracy: 0.9924 - val_loss: 2.9757 - val_accuracy: 0.6138\n",
            "Epoch 78/120\n",
            "449/449 [==============================] - 29s 64ms/step - loss: 0.0237 - accuracy: 0.9919 - val_loss: 4.0113 - val_accuracy: 0.6190\n",
            "Epoch 79/120\n",
            "449/449 [==============================] - 29s 65ms/step - loss: 0.0242 - accuracy: 0.9915 - val_loss: 4.9280 - val_accuracy: 0.6177\n",
            "Epoch 80/120\n",
            "449/449 [==============================] - 29s 64ms/step - loss: 0.0213 - accuracy: 0.9928 - val_loss: 4.1870 - val_accuracy: 0.6250\n",
            "Epoch 81/120\n",
            "449/449 [==============================] - 29s 65ms/step - loss: 0.0195 - accuracy: 0.9926 - val_loss: 1022.8776 - val_accuracy: 0.6234\n",
            "Epoch 82/120\n",
            "449/449 [==============================] - 29s 64ms/step - loss: 0.0210 - accuracy: 0.9926 - val_loss: 5.9742 - val_accuracy: 0.5761\n",
            "Epoch 83/120\n",
            "449/449 [==============================] - 28s 63ms/step - loss: 0.0196 - accuracy: 0.9929 - val_loss: 4.9504 - val_accuracy: 0.6266\n",
            "Epoch 84/120\n",
            "449/449 [==============================] - 29s 64ms/step - loss: 0.0206 - accuracy: 0.9929 - val_loss: 3.8387 - val_accuracy: 0.6248\n",
            "Epoch 85/120\n",
            "449/449 [==============================] - 29s 65ms/step - loss: 0.0193 - accuracy: 0.9934 - val_loss: 4.1620 - val_accuracy: 0.6219\n",
            "Epoch 86/120\n",
            "449/449 [==============================] - 29s 64ms/step - loss: 0.0237 - accuracy: 0.9922 - val_loss: 4.0490 - val_accuracy: 0.6194\n",
            "Epoch 87/120\n",
            "449/449 [==============================] - 29s 65ms/step - loss: 0.0228 - accuracy: 0.9919 - val_loss: 4.9158 - val_accuracy: 0.6074\n",
            "Epoch 88/120\n",
            "449/449 [==============================] - 29s 64ms/step - loss: 0.0187 - accuracy: 0.9933 - val_loss: 3.7583 - val_accuracy: 0.6142\n",
            "Epoch 89/120\n",
            "449/449 [==============================] - 29s 64ms/step - loss: 0.0193 - accuracy: 0.9930 - val_loss: 4.9394 - val_accuracy: 0.6174\n",
            "Epoch 90/120\n",
            "449/449 [==============================] - 29s 64ms/step - loss: 0.0225 - accuracy: 0.9926 - val_loss: 4.0710 - val_accuracy: 0.6255\n",
            "Epoch 91/120\n",
            "449/449 [==============================] - 29s 65ms/step - loss: 0.0177 - accuracy: 0.9941 - val_loss: 3.9943 - val_accuracy: 0.6105\n",
            "Epoch 92/120\n",
            "449/449 [==============================] - 29s 65ms/step - loss: 0.0225 - accuracy: 0.9927 - val_loss: 3.8131 - val_accuracy: 0.6128\n",
            "Epoch 93/120\n",
            "449/449 [==============================] - 29s 65ms/step - loss: 0.0175 - accuracy: 0.9933 - val_loss: 25.4648 - val_accuracy: 0.6148\n",
            "Epoch 94/120\n",
            "449/449 [==============================] - 29s 65ms/step - loss: 0.0237 - accuracy: 0.9918 - val_loss: 4.7987 - val_accuracy: 0.6227\n",
            "Epoch 95/120\n",
            "449/449 [==============================] - 29s 65ms/step - loss: 0.0176 - accuracy: 0.9938 - val_loss: 3.6308 - val_accuracy: 0.6165\n",
            "Epoch 96/120\n",
            "449/449 [==============================] - 28s 63ms/step - loss: 0.0210 - accuracy: 0.9927 - val_loss: 4.6720 - val_accuracy: 0.6184\n",
            "Epoch 97/120\n",
            "449/449 [==============================] - 29s 65ms/step - loss: 0.0180 - accuracy: 0.9934 - val_loss: 3.5209 - val_accuracy: 0.6265\n",
            "Epoch 98/120\n",
            "449/449 [==============================] - 29s 65ms/step - loss: 0.0198 - accuracy: 0.9925 - val_loss: 5.7808 - val_accuracy: 0.6193\n",
            "Epoch 99/120\n",
            "449/449 [==============================] - 28s 63ms/step - loss: 0.0207 - accuracy: 0.9928 - val_loss: 5.3009 - val_accuracy: 0.6092\n",
            "Epoch 100/120\n",
            "449/449 [==============================] - 29s 65ms/step - loss: 0.0182 - accuracy: 0.9937 - val_loss: 4.8162 - val_accuracy: 0.6177\n",
            "Epoch 101/120\n",
            "449/449 [==============================] - 28s 63ms/step - loss: 0.0214 - accuracy: 0.9927 - val_loss: 36254.2383 - val_accuracy: 0.6213\n",
            "Epoch 102/120\n",
            "449/449 [==============================] - 29s 63ms/step - loss: 0.0153 - accuracy: 0.9944 - val_loss: 3.1445 - val_accuracy: 0.6113\n",
            "Epoch 103/120\n",
            "449/449 [==============================] - 28s 63ms/step - loss: 0.0175 - accuracy: 0.9937 - val_loss: 4.0484 - val_accuracy: 0.6186\n",
            "Epoch 104/120\n",
            "449/449 [==============================] - 28s 63ms/step - loss: 0.0166 - accuracy: 0.9939 - val_loss: 4.3390 - val_accuracy: 0.6148\n",
            "Epoch 105/120\n",
            "449/449 [==============================] - 29s 65ms/step - loss: 0.0180 - accuracy: 0.9931 - val_loss: 4.0716 - val_accuracy: 0.6273\n",
            "Epoch 106/120\n",
            "449/449 [==============================] - 29s 64ms/step - loss: 0.0175 - accuracy: 0.9934 - val_loss: 4.5453 - val_accuracy: 0.6289\n",
            "Epoch 107/120\n",
            "449/449 [==============================] - 29s 65ms/step - loss: 0.0182 - accuracy: 0.9930 - val_loss: 7.1529 - val_accuracy: 0.6241\n",
            "Epoch 108/120\n",
            "449/449 [==============================] - 29s 65ms/step - loss: 0.0182 - accuracy: 0.9935 - val_loss: 4.0090 - val_accuracy: 0.6310\n",
            "Epoch 109/120\n",
            "449/449 [==============================] - 29s 65ms/step - loss: 0.0167 - accuracy: 0.9941 - val_loss: 20432.8711 - val_accuracy: 0.6148\n",
            "Epoch 110/120\n",
            "449/449 [==============================] - 28s 63ms/step - loss: 0.0159 - accuracy: 0.9942 - val_loss: 4.6372 - val_accuracy: 0.6243\n",
            "Epoch 111/120\n",
            "449/449 [==============================] - 29s 65ms/step - loss: 0.0165 - accuracy: 0.9938 - val_loss: 3.5904 - val_accuracy: 0.6147\n",
            "Epoch 112/120\n",
            "449/449 [==============================] - 29s 65ms/step - loss: 0.0149 - accuracy: 0.9947 - val_loss: 5.0636 - val_accuracy: 0.6223\n",
            "Epoch 113/120\n",
            "449/449 [==============================] - 28s 63ms/step - loss: 0.0161 - accuracy: 0.9937 - val_loss: 3.9096 - val_accuracy: 0.6204\n",
            "Epoch 114/120\n",
            "449/449 [==============================] - 29s 64ms/step - loss: 0.0160 - accuracy: 0.9939 - val_loss: 3.7572 - val_accuracy: 0.6124\n",
            "Epoch 115/120\n",
            "449/449 [==============================] - 28s 63ms/step - loss: 0.0180 - accuracy: 0.9939 - val_loss: 3.9035 - val_accuracy: 0.6236\n",
            "Epoch 116/120\n",
            "449/449 [==============================] - 29s 64ms/step - loss: 0.0165 - accuracy: 0.9939 - val_loss: 3.9516 - val_accuracy: 0.6197\n",
            "Epoch 117/120\n",
            "449/449 [==============================] - 29s 64ms/step - loss: 0.0182 - accuracy: 0.9930 - val_loss: 4.4672 - val_accuracy: 0.6236\n",
            "Epoch 118/120\n",
            "449/449 [==============================] - 28s 63ms/step - loss: 0.0153 - accuracy: 0.9948 - val_loss: 4.6449 - val_accuracy: 0.6329\n",
            "Epoch 119/120\n",
            "449/449 [==============================] - 29s 65ms/step - loss: 0.0182 - accuracy: 0.9933 - val_loss: 3.3704 - val_accuracy: 0.6144\n",
            "Epoch 120/120\n",
            "449/449 [==============================] - 29s 65ms/step - loss: 0.0167 - accuracy: 0.9941 - val_loss: 4.7580 - val_accuracy: 0.6282\n"
          ]
        }
      ],
      "source": [
        "# Train the model\n",
        "history=modelo.fit(train_images, train_labels, epochs=120, batch_size=64, validation_data=(test_images, test_labels))"
      ]
    },
    {
      "cell_type": "code",
      "execution_count": 26,
      "metadata": {
        "colab": {
          "base_uri": "https://localhost:8080/"
        },
        "id": "ZEFU5awYTZy0",
        "outputId": "2b3532a6-3d33-4964-d1f6-f5ea7c8ff6f1"
      },
      "outputs": [
        {
          "output_type": "stream",
          "name": "stdout",
          "text": [
            "225/225 [==============================] - 3s 13ms/step - loss: 4.7580 - accuracy: 0.6282\n",
            "Test Loss: 4.757976531982422\n",
            "Test Accuracy: 0.6281694173812866\n"
          ]
        }
      ],
      "source": [
        "# Evaluate the model\n",
        "loss, accuracy = modelo.evaluate(test_images, test_labels)\n",
        "print('Test Loss:', loss)\n",
        "print('Test Accuracy:', accuracy)"
      ]
    },
    {
      "cell_type": "code",
      "execution_count": 23,
      "metadata": {
        "id": "zRqWDtiIYg7u"
      },
      "outputs": [],
      "source": [
        "import matplotlib.pyplot as plt"
      ]
    },
    {
      "cell_type": "code",
      "execution_count": 24,
      "metadata": {
        "colab": {
          "base_uri": "https://localhost:8080/",
          "height": 472
        },
        "id": "JiwaIbVsYSrL",
        "outputId": "2bf4ae12-eb0b-43cd-dc63-859a11f1d59c"
      },
      "outputs": [
        {
          "output_type": "display_data",
          "data": {
            "text/plain": [
              "<Figure size 640x480 with 1 Axes>"
            ],
            "image/png": "[encoded data removed]"
          },
          "metadata": {}
        }
      ],
      "source": [
        "plt.plot(history.history['accuracy'])\n",
        "plt.plot(history.history['val_accuracy'],'r--')\n",
        "plt.title('Exactitud del modelo')\n",
        "plt.ylabel('Exactitud')\n",
        "plt.xlabel('epocas')\n",
        "plt.legend(['Entrenamiento', 'test'], loc='upper left')\n",
        "plt.show()"
      ]
    },
    {
      "cell_type": "code",
      "execution_count": 25,
      "metadata": {
        "colab": {
          "base_uri": "https://localhost:8080/",
          "height": 472
        },
        "id": "LY6q3UNIYWCL",
        "outputId": "cd88c4b6-5ce7-49c0-aaf3-27b5b61f0f03"
      },
      "outputs": [
        {
          "output_type": "display_data",
          "data": {
            "text/plain": [
              "<Figure size 640x480 with 1 Axes>"
            ],
            "image/png": "[encoded data removed]"
          },
          "metadata": {}
        }
      ],
      "source": [
        "plt.plot(history.history['loss'])\n",
        "plt.plot(history.history['val_loss'],'r--')\n",
        "plt.title('Perdidas del modelo')\n",
        "plt.ylabel('perdidas')\n",
        "plt.xlabel('epocas')\n",
        "plt.legend(['Entrenamiento', 'test'], loc='upper left')\n",
        "plt.show()"
      ]
    },
    {
      "cell_type": "code",
      "source": [
        "# score = modelo.evaluate(X, y, verbose=0)\n",
        "# print (\"model %s: %.2f%%\" % (modelo.metrics_names[1], score[1]*100))"
      ],
      "metadata": {
        "id": "kcbFWfBxEam9"
      },
      "execution_count": 21,
      "outputs": []
    },
    {
      "cell_type": "code",
      "source": [
        "from tensorflow.keras.models import load_model\n",
        "\n",
        "# Assuming you have a trained model object called 'model'\n",
        "# modelo.save('/content/drive/MyDrive/Escuela/ia/reconocer-jetas/modelos_propios/mi_modelo_mkar6-300.h5')\n",
        "modelo.save('/content/drive/MyDrive/Escuela/ia/reconocer-jetas/modelos_propios/modelo_mkar7-vgg16-160.h5')"
      ],
      "metadata": {
        "id": "AcoRnOroT640"
      },
      "execution_count": 27,
      "outputs": []
    }
  ],
  "metadata": {
    "accelerator": "GPU",
    "colab": {
      "provenance": [],
      "gpuType": "T4",
      "include_colab_link": true
    },
    "kernelspec": {
      "display_name": "Python 3",
      "name": "python3"
    },
    "language_info": {
      "name": "python"
    }
  },
  "nbformat": 4,
  "nbformat_minor": 0
}